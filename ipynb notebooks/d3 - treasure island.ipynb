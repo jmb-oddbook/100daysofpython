{
 "cells": [
  {
   "cell_type": "code",
   "execution_count": null,
   "metadata": {},
   "outputs": [],
   "source": [
    "print('''\n",
    "*******************************************************************************\n",
    "          |                   |                  |                     |\n",
    " _________|________________.=\"\"_;=.______________|_____________________|_______\n",
    "|                   |  ,-\"_,=\"\"     `\"=.|                  |\n",
    "|___________________|__\"=._o`\"-._        `\"=.______________|___________________\n",
    "          |                `\"=._o`\"=._      _`\"=._                     |\n",
    " _________|_____________________:=._o \"=._.\"_.-=\"'\"=.__________________|_______\n",
    "|                   |    __.--\" , ; `\"=._o.\" ,-\"\"\"-._ \".   |\n",
    "|___________________|_._\"  ,. .` ` `` ,  `\"-._\"-._   \". '__|___________________\n",
    "          |           |o`\"=._` , \"` `; .\". ,  \"-._\"-._; ;              |\n",
    " _________|___________| ;`-.o`\"=._; .\" ` '`.\"\\` . \"-._ /_______________|_______\n",
    "|                   | |o;    `\"-.o`\"=._``  '` \" ,__.--o;   |\n",
    "|___________________|_| ;     (#) `-.o `\"=.`_.--\"_o.-; ;___|___________________\n",
    "____/______/______/___|o;._    \"      `\".o|o_.--\"    ;o;____/______/______/____\n",
    "/______/______/______/_\"=._o--._        ; | ;        ; ;/______/______/______/_\n",
    "____/______/______/______/__\"=._o--._   ;o|o;     _._;o;____/______/______/____\n",
    "/______/______/______/______/____\"=._o._; | ;_.--\"o.--\"_/______/______/______/_\n",
    "____/______/______/______/______/_____\"=.o|o_.--\"\"___/______/______/______/____\n",
    "/______/______/______/______/______/______/______/______/______/______/_____ /\n",
    "*******************************************************************************\n",
    "''')\n",
    "print(\"Welcome to Treasure Island.\")\n",
    "print(\"Your mission is to find the treasure.\") \n",
    "\n",
    "dir1 = input(\"Which way do you want to go? Type 'left' or 'right'\" ).lower()\n",
    "\n",
    "if dir1 == \"left\":\n",
    "  print(\"You have reached a river.\")\n",
    "  dir1 = input(\"Do you want to 'swim' or 'wait'? \").lower()\n",
    "  if dir1 == \"wait\":\n",
    "    print(\"While waiting magically three doors appear.\")\n",
    "    dir1 = input(\"Which door do you choose? 'Red', 'yellow', or 'blue'?\").lower()\n",
    "    if dir1 == \"red\":\n",
    "      print(\"You open the red door. A huge gout of flames surges out. Crispy critter. Game Over.\")\n",
    "    elif dir1 == \"blue\":\n",
    "      print(\"You open the blue door. The protesting hinges attract wildebeests, you are very tasty. Game Over.\")\n",
    "    elif dir1 == \"yellow\":\n",
    "      print(\"Well done you. You survived. Game Won.\")\n",
    "    else: # did not enter either red, blue, or yellow\n",
    "      print(\"You stand in the woods and can't decide which door to open. Slowly you grow older. Moss settles on your legs, a spider builds its web beneath your nose, birds nest in your hair. A tree gently places a branch over your shoulder. Somewhere, the hooting of an owl. Game Over.\")\n",
    "  else: # chose swim\n",
    "    print(\"You jump into the river and are attacked and eaten by trout. Game Over.\")\n",
    "else: # chose right\n",
    "  print(\"Fall into a hole. Game Over.\")"
   ]
  }
 ],
 "metadata": {
  "language_info": {
   "name": "python"
  },
  "orig_nbformat": 4
 },
 "nbformat": 4,
 "nbformat_minor": 2
}
