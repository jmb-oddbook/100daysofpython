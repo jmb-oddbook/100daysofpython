{
 "cells": [
  {
   "cell_type": "code",
   "execution_count": null,
   "metadata": {},
   "outputs": [],
   "source": [
    "#1. Create a greeting for your program.\n",
    "print(\"So you want to form a band? What's the name going to be? Don't know?\\n\")\n",
    "#2. Ask the user for the city that they grew up in.\n",
    "cityname = input(\"Tell me, which city did you grow up in: \\n\")\n",
    "#3. Ask the user for the name of a pet.\n",
    "petname = input(\"And, what was the name of a pet of yours: \\n\")\n",
    "#4. Combine the name of their city and pet and show them their band name.\n",
    "print(\"You should try \\\"\" + cityname, petname + \"\\\" as your band name.\")\n",
    "#5. Make sure the input cursor shows on a new line, see the example at:\n",
    "#   https://replit.com/@appbrewery/band-name-generator-end"
   ]
  }
 ],
 "metadata": {
  "interpreter": {
   "hash": "b5cfa023891fceef02537f80a4c6e95b77988fb973cdb16a51cdb785092210be"
  },
  "kernelspec": {
   "display_name": "Python 3.9.7 ('base')",
   "language": "python",
   "name": "python3"
  },
  "language_info": {
   "codemirror_mode": {
    "name": "ipython",
    "version": 3
   },
   "file_extension": ".py",
   "mimetype": "text/x-python",
   "name": "python",
   "nbconvert_exporter": "python",
   "pygments_lexer": "ipython3",
   "version": "3.9.7"
  },
  "orig_nbformat": 4
 },
 "nbformat": 4,
 "nbformat_minor": 2
}
